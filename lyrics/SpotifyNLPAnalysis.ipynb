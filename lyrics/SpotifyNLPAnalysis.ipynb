{
 "cells": [
  {
   "cell_type": "markdown",
   "metadata": {},
   "source": [
    "# Mac Miller: A lyrical analysis using NLP"
   ]
  },
  {
   "cell_type": "code",
   "execution_count": 2,
   "metadata": {},
   "outputs": [],
   "source": [
    "# setting up libraries\n",
    "import spotipy\n",
    "import pandas as pd\n",
    "import numpy as np\n",
    "import seaborn as sns\n",
    "import sklearn\n",
    "import gensim\n",
    "from gensim.models import Word2Vec\n",
    "import json\n",
    "import matplotlib.pyplot as plt\n",
    "from lyricsgenius import Genius\n",
    "# lyrics genius is a fantastic library that helps us take lyrics from the Genius API\n",
    "import nltk"
   ]
  },
  {
   "cell_type": "code",
   "execution_count": 3,
   "metadata": {
    "scrolled": true
   },
   "outputs": [],
   "source": [
    "#setting up Genius API\n",
    "client_id = 'AqnRTduqC75eC1V8Fr3EKTnLep6I_-rk99_RdWPEpSlfeyg5IoZrLs9KRLQBK6Db'\n",
    "token = 'r_Gny4srkI6fW0JKR5zYU8LofeURTtx4Up7kQa_kqXlkoy6O82vZ_UaUZTWuq8fg'\n",
    "genius = Genius(token)\n",
    "\n",
    "#Removes [chorus] [bridge] etc. tags.\n",
    "genius.remove_section_headers = True\n",
    "\n",
    "#excluding repeat songs that might hinder analysis ()\n",
    "genius.excluded_terms = [\"(Remix)\", \"(Live)\"]\n",
    "#artist = genius.search_artist(\"Kendrick Lamar\", max_songs=10)"
   ]
  },
  {
   "cell_type": "markdown",
   "metadata": {},
   "source": [
    "I had to choose specific albums because analyzing his whole discography might not yield important insights (filler mixtapes or albums that don't portray his personality well). As such, I decided to include his 6 studio albums (Blue Slide Park, Watching Movies with the Sound Off, GO:OD AM, The Divine Feminine, Swimming, and Circles), and five very popular mixtapes (all of which I absolutely love) (K.I.D.S., Best Day Ever, I Love Life Thank You, Macadelic, and Faces)."
   ]
  },
  {
   "cell_type": "code",
   "execution_count": 4,
   "metadata": {},
   "outputs": [
    {
     "name": "stdout",
     "output_type": "stream",
     "text": [
      "Searching for \"Blue Slide Park\" by Mac Miller...\n",
      "Searching for \"Watching Movies with the Sound Off\" by Mac Miller...\n",
      "Searching for \"GO:OD AM\" by Mac Miller...\n",
      "Searching for \"The Divine Feminine\" by Mac Miller...\n",
      "Searching for \"Swimming\" by Mac Miller...\n",
      "Searching for \"Circles\" by Mac Miller...\n",
      "Searching for \"K.I.D.S\" by Mac Miller...\n",
      "Searching for \"Best Day Ever\" by Mac Miller...\n",
      "Searching for \"I Love Life, Thank You\" by Mac Miller...\n",
      "Searching for \"Macadelic\" by Mac Miller...\n",
      "Searching for \"Faces\" by Mac Miller...\n",
      "Wrote Lyrics_BlueSlidePark.json.\n",
      "Wrote Lyrics_WatchingMovieswiththeSoundOff.json.\n",
      "Wrote Lyrics_GOODAM.json.\n",
      "Wrote Lyrics_TheDivineFeminine.json.\n",
      "Wrote Lyrics_Swimming.json.\n",
      "Wrote Lyrics_Circles.json.\n",
      "Wrote Lyrics_K.I.D.S..json.\n",
      "Wrote Lyrics_BestDayEver.json.\n",
      "Wrote Lyrics_ILoveLifeThankYou.json.\n",
      "Wrote Lyrics_Macadelic.json.\n",
      "Wrote Lyrics_Faces.json.\n"
     ]
    }
   ],
   "source": [
    "# add albums to a list to parse into a dataframe later\n",
    "albums = []\n",
    "\n",
    "# The \"try/except\" block exists because I kept running into a \"request timed out\" error in the previous \n",
    "# code block, so I went and wrote this to retry the call to artist's albums until it works\n",
    "\n",
    "while True:\n",
    "    try:\n",
    "        albums.append(genius.search_album(\"Blue Slide Park\",  \"Mac Miller\"))\n",
    "        albums.append(genius.search_album(\"Watching Movies with the Sound Off\",  \"Mac Miller\"))\n",
    "        albums.append(genius.search_album(\"GO:OD AM\",  \"Mac Miller\"))\n",
    "        albums.append(genius.search_album(\"The Divine Feminine\",  \"Mac Miller\"))\n",
    "        albums.append(genius.search_album(\"Swimming\",  \"Mac Miller\"))\n",
    "        albums.append(genius.search_album(\"Circles\",  \"Mac Miller\"))\n",
    "        albums.append(genius.search_album(\"K.I.D.S\",  \"Mac Miller\"))\n",
    "        albums.append(genius.search_album(\"Best Day Ever\",  \"Mac Miller\"))\n",
    "        albums.append(genius.search_album(\"I Love Life, Thank You\",  \"Mac Miller\"))\n",
    "        albums.append(genius.search_album(\"Macadelic\",  \"Mac Miller\"))\n",
    "        albums.append(genius.search_album(\"Faces\",  \"Mac Miller\"))\n",
    "        break\n",
    "    except:\n",
    "        pass\n",
    "    \n",
    "# saving lyrics into files, we keep them separate so we can analyze data by album and not just per song\n",
    "for i in range(len(albums)):\n",
    "    albums[i].save_lyrics()"
   ]
  },
  {
   "cell_type": "code",
   "execution_count": null,
   "metadata": {},
   "outputs": [],
   "source": []
  }
 ],
 "metadata": {
  "kernelspec": {
   "display_name": "Python 3",
   "language": "python",
   "name": "python3"
  },
  "language_info": {
   "codemirror_mode": {
    "name": "ipython",
    "version": 3
   },
   "file_extension": ".py",
   "mimetype": "text/x-python",
   "name": "python",
   "nbconvert_exporter": "python",
   "pygments_lexer": "ipython3",
   "version": "3.7.3"
  }
 },
 "nbformat": 4,
 "nbformat_minor": 2
}
