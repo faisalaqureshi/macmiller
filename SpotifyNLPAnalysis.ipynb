{
 "cells": [
  {
   "cell_type": "markdown",
   "metadata": {},
   "source": [
    "# Kendrick Lamar: A lyrical analysis using NLP"
   ]
  },
  {
   "cell_type": "code",
   "execution_count": 5,
   "metadata": {},
   "outputs": [],
   "source": [
    "import spotipy\n",
    "import pandas as pd\n",
    "import numpy as np\n",
    "import seaborn as sns\n",
    "import sklearn\n",
    "import gensim\n",
    "from gensim.models import Word2Vec\n",
    "import requests\n",
    "import json\n",
    "import matplotlib.pyplot as plt\n",
    "from lyricsgenius import Genius\n",
    "# lyrics genius is a fantastic library that helps us take lyrics from the Genius API\n",
    "import nltk"
   ]
  },
  {
   "cell_type": "code",
   "execution_count": 12,
   "metadata": {
    "scrolled": true
   },
   "outputs": [],
   "source": [
    "#setting up Genius API\n",
    "client_id = 'AqnRTduqC75eC1V8Fr3EKTnLep6I_-rk99_RdWPEpSlfeyg5IoZrLs9KRLQBK6Db'\n",
    "token = 'r_Gny4srkI6fW0JKR5zYU8LofeURTtx4Up7kQa_kqXlkoy6O82vZ_UaUZTWuq8fg'\n",
    "genius = Genius(token)\n",
    "\n",
    "#Removes [chorus] [bridge] etc. tags.\n",
    "genius.remove_section_headers = True\n",
    "\n",
    "#excluding repeat songs that might hinder analysis ()\n",
    "genius.excluded_terms = [\"(Remix)\", \"(Live)\"]\n",
    "artist = genius.search_artist(\"Kendrick Lamar\", max_songs=10)"
   ]
  },
  {
   "cell_type": "code",
   "execution_count": 11,
   "metadata": {},
   "outputs": [
    {
     "name": "stdout",
     "output_type": "stream",
     "text": [
      "Searching for songs by Kendrick Lamar...\n",
      "\n",
      "Searching for songs by Kendrick Lamar...\n",
      "\n",
      "Song 1: \"HUMBLE.\"\n",
      "Song 2: \"​m.A.A.d city\"\n",
      "Song 3: \"Swimming Pools (Drank)\"\n",
      "Song 4: \"DNA.\"\n",
      "Song 5: \"Money Trees\"\n",
      "Song 6: \"XXX.\"\n",
      "Song 7: \"Bitch, Don’t Kill My Vibe\"\n",
      "Song 8: \"King Kunta\"\n",
      "Song 9: \"Poetic Justice\"\n",
      "Song 10: \"LOVE.\"\n",
      "\n",
      "Reached user-specified song limit (10).\n",
      "Done. Found 10 songs.\n",
      "[Song(id, artist, ...), Song(id, artist, ...), Song(id, artist, ...), Song(id, artist, ...), Song(id, artist, ...), Song(id, artist, ...), Song(id, artist, ...), Song(id, artist, ...), Song(id, artist, ...), Song(id, artist, ...)]\n"
     ]
    }
   ],
   "source": [
    "# I kept running into a \"request timed out\" error in the previous code block, so I went and wrote\n",
    "# this to retry the call to artist until it works\n",
    "while True:\n",
    "    try:\n",
    "        artist = genius.search_artist(\"Kendrick Lamar\", max_songs=10)\n",
    "        break\n",
    "    except:\n",
    "        pass\n",
    "print(artist.songs)"
   ]
  },
  {
   "cell_type": "code",
   "execution_count": null,
   "metadata": {},
   "outputs": [],
   "source": []
  }
 ],
 "metadata": {
  "kernelspec": {
   "display_name": "Python 3",
   "language": "python",
   "name": "python3"
  },
  "language_info": {
   "codemirror_mode": {
    "name": "ipython",
    "version": 3
   },
   "file_extension": ".py",
   "mimetype": "text/x-python",
   "name": "python",
   "nbconvert_exporter": "python",
   "pygments_lexer": "ipython3",
   "version": "3.7.3"
  }
 },
 "nbformat": 4,
 "nbformat_minor": 2
}
